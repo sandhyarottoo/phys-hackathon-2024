{
 "cells": [
  {
   "cell_type": "code",
   "execution_count": 2,
   "metadata": {},
   "outputs": [
    {
     "name": "stdout",
     "output_type": "stream",
     "text": [
      "pygame 2.5.2 (SDL 2.28.3, Python 3.11.5)\n",
      "Hello from the pygame community. https://www.pygame.org/contribute.html\n"
     ]
    }
   ],
   "source": [
    "import numpy as n\n",
    "import pygame"
   ]
  },
  {
   "cell_type": "code",
   "execution_count": 13,
   "metadata": {},
   "outputs": [],
   "source": [
    "class Particle():\n",
    "    def __init__(self, x, y, width, height, vx=0, vy=0):\n",
    "        self.pos = pygame.Vector2(x, y)\n",
    "        self.width = width\n",
    "        self.height = height\n",
    "        self.vel = pygame.Vector2(vx, vy)\n",
    "        self.rect = pygame.Rect(self.pos.x, self.pos.y, self.width, self.height)\n",
    "        \n",
    "        self.updated = False\n",
    "        \n",
    "    def update(self):\n",
    "        pass\n",
    "    \n",
    "    def collide(self, particle):\n",
    "        pass"
   ]
  },
  {
   "cell_type": "code",
   "execution_count": 4,
   "metadata": {},
   "outputs": [
    {
     "data": {
      "text/plain": [
       "<rect(100, 100, 1, 1)>"
      ]
     },
     "execution_count": 4,
     "metadata": {},
     "output_type": "execute_result"
    }
   ],
   "source": [
    "p = Particle(100, 100, 1, 1)\n",
    "p.rect"
   ]
  },
  {
   "cell_type": "code",
   "execution_count": 5,
   "metadata": {},
   "outputs": [],
   "source": [
    "SCREEN_WIDTH = 800\n",
    "SCREEN_HEIGHT = 800\n",
    "NBOX_X = 10\n",
    "NBOX_Y = 10\n",
    "BOX_WIDTH = SCREEN_WIDTH // NBOX_X\n",
    "BOX_HEIGHT = SCREEN_HEIGHT // NBOX_Y\n",
    "\n",
    "class Box():\n",
    "    def __init__(self, x, y, w, h, index):\n",
    "        self.rect = pygame.Rect(x, y, w, h)\n",
    "        self.index = index\n",
    "        self.particles = []\n",
    "        \n",
    "    def updateBox(self):\n",
    "        # start in first box\n",
    "        # step 1: get all particles in the box\n",
    "        # step 2: check for collisions between particles in this box and particles in neighboring boxes\n",
    "        # step 3: call collision handler for each collision (method of particle class)\n",
    "        # step 4: update particles in this box\n",
    "        # step 5: go to next box\n",
    "        \n",
    "        neighbors = []\n",
    "        if \n",
    "        \n",
    "    def checkParticles(self):\n",
    "        for particle in self.particles:\n",
    "            box_x, box_y, box_w, box_h = self.rect\n",
    "            x, y, w, h = particle.rect\n",
    "            \n",
    "            if x-w > box_x+box_w or x+w < box_x or y+h < box_y or y-h > box_y+box_h:\n",
    "                self.removeParticle(particle)\n",
    "            \n",
    "            if x+w > box_x+box_w:\n",
    "                boxes[self.index+1].addParticle(particle)\n",
    "            if x-w < box_x:\n",
    "                boxes[self.index-1].addParticle(particle)\n",
    "            if y+h > box_y+box_h:\n",
    "                boxes[self.index+NBOX_X].addParticle(particle)\n",
    "            if y-h < box_y:\n",
    "                boxes[self.index-NBOX_X].addParticle(particle)\n",
    "                \n",
    "            \n",
    "            self.updateParticles()\n",
    "        \n",
    "    def addParticle(self, particle):\n",
    "        if not particle.updated and particle not in self.particles:\n",
    "            self.particles.append(particle)\n",
    "            particle.updated = True\n",
    "        \n",
    "    def removeParticle(self, particle):\n",
    "        self.particles.remove(particle)\n",
    "        \n",
    "    def updateParticles(self):\n",
    "        for particle in self.particles:\n",
    "            particle.update()\n",
    "            \n",
    "    def contains_particles(self):\n",
    "        return len(self.particles) > 0\n",
    "        \n",
    "    def draw(self, screen, color=(255, 255, 255), signal_content=False):\n",
    "        if signal_content and self.contains_particles():\n",
    "                color = (200, 120, 120)\n",
    "        pygame.draw.rect(screen, color, self.rect)\n",
    "        \n",
    "\n",
    "boxes = []\n",
    "for j in range(NBOX_Y):\n",
    "    for i in range(NBOX_X):\n",
    "        boxes.append(Box(i*BOX_WIDTH, j*BOX_HEIGHT, BOX_WIDTH, BOX_HEIGHT))\n",
    "\n",
    "        \n",
    "        \n",
    "class Boxes():\n",
    "    def __init__(self, screen_width, screen_height, nbox_x, nbox_y, particles=None):\n",
    "        self.nbox_x = nbox_x\n",
    "        self.nbox_y = nbox_y\n",
    "        self.box_w = screen_width // nbox_x\n",
    "        self.box_h = screen_height // nbox_y\n",
    "        self.particles = particles\n",
    "        \n",
    "        if self.box_w * nbox_x != screen_width:\n",
    "            raise ValueError(\"Screen width is not a multiple of nbox_x\")\n",
    "        if self.box_h * nbox_y != screen_height:\n",
    "            raise ValueError(\"Screen height is not a multiple of nbox_y\")\n",
    "        \n",
    "        self.boxes = []\n",
    "        for j in range(nbox_y):\n",
    "            for i in range(nbox_x):\n",
    "                self.boxes.append(Box(i*self.box_w, j*self.box_h, self.box_w, self.box_h))\n",
    "        \n",
    "    def updateBoxes(self):\n",
    "        for box in self.boxes:\n",
    "            box.removeParticles()\n",
    "            particle_indices = box.rect.collidelistall(self.particles)\n",
    "            if particle_indices != -1:\n",
    "                box.addParticles(self.particles, particle_indices)\n",
    "                \n",
    "            box.updateParticles()\n",
    "        \n",
    "    def draw(self, screen, signal_content=False):\n",
    "        for box in self.boxes:\n",
    "            box.draw(screen, (200, 200, 200), signal_content)\n",
    "            \n",
    "    def addParticle(self, particle):\n",
    "        for box in self.boxes:\n",
    "            if box.rect.colliderect(particle.rect):\n",
    "                box.addParticle(particle)\n",
    "                \n",
    "    def removeParticle(self, particle):\n",
    "        for box in self.boxes:\n",
    "            if not box.rect.colliderect(particle.rect):\n",
    "                box.removeParticle(particle)"
   ]
  },
  {
   "cell_type": "code",
   "execution_count": null,
   "metadata": {},
   "outputs": [],
   "source": []
  },
  {
   "cell_type": "code",
   "execution_count": 11,
   "metadata": {},
   "outputs": [
    {
     "ename": "KeyboardInterrupt",
     "evalue": "",
     "output_type": "error",
     "traceback": [
      "\u001b[0;31m---------------------------------------------------------------------------\u001b[0m",
      "\u001b[0;31mKeyboardInterrupt\u001b[0m                         Traceback (most recent call last)",
      "Cell \u001b[0;32mIn[11], line 40\u001b[0m\n\u001b[1;32m     37\u001b[0m         running \u001b[38;5;241m=\u001b[39m \u001b[38;5;28;01mFalse\u001b[39;00m\n\u001b[1;32m     39\u001b[0m pygame\u001b[38;5;241m.\u001b[39mdisplay\u001b[38;5;241m.\u001b[39mflip()\n\u001b[0;32m---> 40\u001b[0m \u001b[43mclock\u001b[49m\u001b[38;5;241;43m.\u001b[39;49m\u001b[43mtick\u001b[49m\u001b[43m(\u001b[49m\u001b[38;5;241;43m60\u001b[39;49m\u001b[43m)\u001b[49m\n",
      "\u001b[0;31mKeyboardInterrupt\u001b[0m: "
     ]
    }
   ],
   "source": [
    "# starting pygame\n",
    "pygame.init()\n",
    "\n",
    "# setting up the Screen\n",
    "width = 800\n",
    "height = 600\n",
    "\n",
    "# making the boxes\n",
    "boxes = Boxes(width, height, 8, 6)\n",
    "\n",
    "# making particle\n",
    "p = Particle(95, 100, 20, 20)\n",
    "p1 = Particle(399, 199, 60, 60)\n",
    "boxes.addParticle(p)\n",
    "boxes.addParticle(p1)\n",
    "\n",
    "# setting up the screen\n",
    "screen = pygame.display.set_mode((width, height))\n",
    "\n",
    "# setting up the clock\n",
    "clock = pygame.time.Clock()\n",
    "\n",
    "# setting up the game loop\n",
    "running = True\n",
    "while running:\n",
    "    screen.fill((0, 0, 0))\n",
    "    \n",
    "    boxes.draw(screen, signal_content=True)\n",
    "    pygame.draw.rect(screen, (250,250,250), p.rect)\n",
    "    pygame.draw.rect(screen, (250,250,250), p1.rect)\n",
    "        \n",
    "    \n",
    "    \n",
    "    \n",
    "    for event in pygame.event.get():\n",
    "        if event.type == pygame.QUIT:\n",
    "            running = False\n",
    "    \n",
    "    pygame.display.flip()\n",
    "    clock.tick(60)"
   ]
  },
  {
   "cell_type": "code",
   "execution_count": null,
   "metadata": {},
   "outputs": [],
   "source": []
  }
 ],
 "metadata": {
  "kernelspec": {
   "display_name": "Python 3",
   "language": "python",
   "name": "python3"
  },
  "language_info": {
   "codemirror_mode": {
    "name": "ipython",
    "version": 3
   },
   "file_extension": ".py",
   "mimetype": "text/x-python",
   "name": "python",
   "nbconvert_exporter": "python",
   "pygments_lexer": "ipython3",
   "version": "3.11.5"
  }
 },
 "nbformat": 4,
 "nbformat_minor": 2
}
